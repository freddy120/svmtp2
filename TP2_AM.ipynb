{
  "nbformat": 4,
  "nbformat_minor": 0,
  "metadata": {
    "colab": {
      "name": "TP2_AM.ipynb",
      "provenance": [],
      "collapsed_sections": [],
      "authorship_tag": "ABX9TyOyGhqsy1JD9NwEcmy259aM",
      "include_colab_link": true
    },
    "kernelspec": {
      "name": "python3",
      "display_name": "Python 3"
    },
    "language_info": {
      "name": "python"
    }
  },
  "cells": [
    {
      "cell_type": "markdown",
      "metadata": {
        "id": "view-in-github",
        "colab_type": "text"
      },
      "source": [
        "<a href=\"https://colab.research.google.com/github/freddy120/svmtp2/blob/main/TP2_AM.ipynb\" target=\"_parent\"><img src=\"https://colab.research.google.com/assets/colab-badge.svg\" alt=\"Open In Colab\"/></a>"
      ]
    },
    {
      "cell_type": "markdown",
      "metadata": {
        "id": "vI4hnJXHtMXX"
      },
      "source": [
        "## Trabajo Practico Nro 2 - SVM\n",
        "autor: Freddy Rodrigo Mendoza Ticona"
      ]
    },
    {
      "cell_type": "code",
      "metadata": {
        "id": "a3WDomVoB2ye"
      },
      "source": [
        "from sklearn.svm import SVC\n",
        "import numpy as np\n",
        "import matplotlib.pyplot as plt\n",
        "from mpl_toolkits.mplot3d import Axes3D\n",
        "from IPython import display\n",
        "\n",
        "\n",
        "%matplotlib inline\n",
        "\n",
        "display.clear_output()\n",
        "\n"
      ],
      "execution_count": 6,
      "outputs": []
    },
    {
      "cell_type": "code",
      "metadata": {
        "id": "QaP2uCILt2Sj"
      },
      "source": [
        "X_train = []\n",
        "y_train = []\n",
        "with open(\"train.csv\", 'r') as f:\n",
        "  f.readline()\n",
        "  for i in f.readlines():\n",
        "    X_train.append([float(i.split(',')[1]),  float(i.split(',')[2])])\n",
        "    y_train.append(float(i.split(',')[3]))\n"
      ],
      "execution_count": 7,
      "outputs": []
    },
    {
      "cell_type": "code",
      "metadata": {
        "id": "5PwBDqDMtYJp"
      },
      "source": [
        "X_test = []\n",
        "y_test = []\n",
        "with open(\"test.csv\", 'r') as f:\n",
        "  f.readline()\n",
        "  for i in f.readlines():\n",
        "    X_test.append([float(i.split(',')[1]),  float(i.split(',')[2])])\n",
        "    y_test.append(float(i.split(',')[3]))\n"
      ],
      "execution_count": 8,
      "outputs": []
    },
    {
      "cell_type": "markdown",
      "metadata": {
        "id": "Wf1mK8JQw-D8"
      },
      "source": [
        "### Gradiente descendente"
      ]
    },
    {
      "cell_type": "markdown",
      "metadata": {
        "id": "As8OMmAQviQi"
      },
      "source": [
        "Sea la funcion de costo que queremos minimizar, necesitamos calcular su gradiente\n",
        "\\begin{equation}\n",
        "J(w,b) = \\frac{1}{2} \\lVert w \\rVert^2 + C\\sum_{i=1}^{n}max\\{0,1-y_{i}(w^Tx_{i}+b)\\}\n",
        "\\end{equation}\n",
        "\n",
        "que es igual a: \n",
        "\\begin{equation}\n",
        "J(w,b) = \\frac{1}{2} \\lVert w \\rVert^2 + C\\sum_{i=1}^{n}\\ell(t)\n",
        "\\end{equation}\n",
        "donde:\n",
        "\\begin{equation}\n",
        "\\ell(t) = max\\{0, 1 − t\\} \n",
        "\\end{equation}\n",
        "y \n",
        "\n",
        "\\begin{equation}\n",
        "t = y_{i}(w^Tx_{i}+b)\n",
        "\\end{equation}\n",
        "\n",
        "\\begin{equation}\n",
        "\\frac{d\\ell}{dt}=\\left\\lbrace\\begin{array}{c} -1~~~t < 1\n",
        "\\\\ 0~~~t \\geq 1 \\end{array}\\right.\n",
        "\\end{equation}\n",
        "\n",
        "aplicamos regla de la cadena para calcular el gradiente:\n",
        "\\begin{equation}\n",
        "\\frac{\\partial\\ell}{\\partial w}=\\frac{\\partial\\ell}{\\partial t}\\frac{\\partial t}{\\partial w} = \\left\\lbrace\\begin{array}{c} -y_{i}x_{i}~~~~y_{i}(w^Tx_{i}+b)<1\n",
        "\\\\ 0~~~~y_{i}(w^Tx_{i}+b) \\geq 1 \\end{array}\\right.\n",
        "\\end{equation}\n",
        "\n",
        "y\n",
        "\n",
        "\\begin{equation}\n",
        "\\frac{\\partial\\ell}{\\partial b}=\\frac{\\partial\\ell}{\\partial t}\\frac{\\partial t}{\\partial b} = \\left\\lbrace\\begin{array}{c} -y_{i}~~~~y_{i}(w^Tx_{i}+b)<1\n",
        "\\\\ 0~~~~y_{i}(w^Tx_{i}+b) \\geq 1 \\end{array}\\right.\n",
        "\\end{equation}\n",
        "\n",
        "Entonces:\n",
        "\\begin{equation}\n",
        "\\frac{\\partial J}{\\partial w} = \\left\\lbrace\\begin{array}{c} w - C\\sum_{i=1}^{n}y_{i}x_{i}~~~~~y_{i}(w^Tx_{i}+b)<1\n",
        "\\\\ w~~~~~y_{i}(w^Tx_{i}+b) \\geq 1 \\end{array}\\right.\n",
        "\\end{equation}\n",
        "\n",
        "y \n",
        "\n",
        "\\begin{equation}\n",
        "\\frac{\\partial J}{\\partial b} = \\left\\lbrace\\begin{array}{c} -C\\sum_{i=1}^{n}y_{i}~~~~~y_{i}(w^Tx_{i}+b)<1\n",
        "\\\\ 0~~~~~y_{i}(w^Tx_{i}+b) \\geq 1 \\end{array}\\right.\n",
        "\\end{equation}\n"
      ]
    },
    {
      "cell_type": "code",
      "metadata": {
        "id": "yX76qDZUR37n"
      },
      "source": [
        "def get_gradients(batch_size = 1):\n",
        "  \n"
      ],
      "execution_count": null,
      "outputs": []
    },
    {
      "cell_type": "code",
      "metadata": {
        "id": "8IzchhqfygoS",
        "colab": {
          "base_uri": "https://localhost:8080/",
          "height": 133
        },
        "outputId": "f5c5d9a2-546f-4ae0-dad7-d9c1829cd933"
      },
      "source": [
        "Xtrain = np.array(X_train)\n",
        "ytrain = np.array(y_train)\n",
        "Xtest =  np.array(X_test)\n",
        "ytest =  np.array(y_train)\n",
        ". . .\n",
        "svm = SVC() \n",
        "svm.fit(Xtrain,ytrain) \n",
        "print(svm.support_vectors_) \n",
        "print(svm.supprt_)\n",
        "print(svm.coef_)\n",
        "print(svm.intercept_)\n",
        "svm.score(Xtest, ytest)\n",
        "svm.predict(Xtest)"
      ],
      "execution_count": 1,
      "outputs": [
        {
          "output_type": "error",
          "ename": "SyntaxError",
          "evalue": "ignored",
          "traceback": [
            "\u001b[0;36m  File \u001b[0;32m\"<ipython-input-1-fcf964dcb635>\"\u001b[0;36m, line \u001b[0;32m1\u001b[0m\n\u001b[0;31m    \\begin{equation}\u001b[0m\n\u001b[0m                    ^\u001b[0m\n\u001b[0;31mSyntaxError\u001b[0m\u001b[0;31m:\u001b[0m unexpected character after line continuation character\n"
          ]
        }
      ]
    }
  ]
}